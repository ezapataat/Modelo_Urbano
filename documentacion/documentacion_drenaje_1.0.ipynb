{
 "cells": [
  {
   "cell_type": "markdown",
   "metadata": {},
   "source": [
    "## Modelo de Drenaje Urbano"
   ]
  },
  {
   "cell_type": "markdown",
   "metadata": {},
   "source": [
    "## 1. Introducción"
   ]
  },
  {
   "cell_type": "markdown",
   "metadata": {},
   "source": [
    "En el Valle de Aburrá son comunes las alertas por inundación relacionadas con el colapso de la red de drenaje urbano o alcantarillado de aguas lluvia. Este tipo de alerta se presenta cuando la cantidad de agua producida en un evento de lluvia excede la capacidad de las redes de drenaje y se genera encharcamiento en las vías y traumatismo en el tránsito principalmente en zonas aledañas a los deprimidos viales.\n",
    "\n",
    "Para atender este tipo de alerta se esta desarrollando el modelo de drenaje urbano de SIATA, en el cual la precipitación registrada en tiempo real se utiliza como entrada al modelo hidráulico EPA-SWMM para conocer la respuesta en la red de drenaje urbano compuesta por tuberías y cámaras de inspección. Este modelo sera una herramienta importante para la generación de alertas relacionadas con redes de drenaje urbano en tiempo real y en condiciones de precipitación pronosticada en la próxima hora."
   ]
  },
  {
   "cell_type": "markdown",
   "metadata": {},
   "source": [
    "## 2. Esquema del modelo"
   ]
  },
  {
   "cell_type": "markdown",
   "metadata": {},
   "source": [
    "El Modelo de Drenaje Urbano esta constituido por tres componentes:\n",
    "\n",
    "$1$. Preprocesamiento de información: Redes de alcantarilla pluvial de EPM, series de precipitación y nivel SIATA.\n",
    "\n",
    "$2$. Procesamiento: Ejecución modelo hidráulico EPA-SWMM, análisis de resultados.\n",
    "\n",
    "$3$. Modelo operacional en versiones estadístico y físico.\n",
    "\n",
    "Esquema general del Modelo de Drenaje Urbano.\n",
    "\n",
    "![title](Esquema_drenaje.png)"
   ]
  },
  {
   "cell_type": "markdown",
   "metadata": {},
   "source": [
    "## 3. Información utilizada"
   ]
  },
  {
   "cell_type": "markdown",
   "metadata": {},
   "source": [
    "### 3.1 SIATA"
   ]
  },
  {
   "cell_type": "markdown",
   "metadata": {},
   "source": [
    "Para la ejecución del Modelo de Dreneje se requiere información del Sistema de Alerta Temprana de Medellín y el Valle de Aburrá (SIATA) para las redes de nivel y precipitación:\n",
    "\n",
    "- Nivel: para identificar eventos de crecida en la zona de interes. Adicionalmente la información de nivel puede ser utilizada para limitar la descarga de la red de drenaje en el cauce principal.\n",
    "\n",
    "- Precipitación: series de precipitación en la zona de interes para los eventos identificados. Esta información puede ser obtenida por radar meteorológico o por pluviometros. \n",
    "\n",
    "La información de radar representa espacialmente la lluvia de mejor manera y es utilizada prioritariamente sobre la información de pluviometros, los cuales seran utilizados unicamente en los eventos para los cuales no se tenga información de radar. El radar meteorológico tiene resolución temporal de $5min$ y los pluviometros de $1min$."
   ]
  },
  {
   "cell_type": "markdown",
   "metadata": {},
   "source": [
    "### 3.2 EPM"
   ]
  },
  {
   "cell_type": "markdown",
   "metadata": {},
   "source": [
    "Para la implementación del Modelo de Drenaje Urbano se requiere información de las redes de alcantarillado pluvial de la zona de interes, las cuales son operadas por EPM. A continuación se presenta un listado de la información requerida para alimentar el modeo hidráulico EPA-SWMM.\n",
    "\n",
    "$1$. Cámaras de inspección:\n",
    "\n",
    "- Coordenadas\n",
    "- Profundidad\n",
    "- Diámetro\n",
    "- Cotas de terreno y fondo\n",
    "\n",
    "$2$. Tuberías\n",
    "\n",
    "- Nodo inicial\n",
    "- Nodo final\n",
    "- Diámetro\n",
    "- Rugosidad\n",
    "- Cota inicial $Zup$\n",
    "- Cota final $Zdown$"
   ]
  },
  {
   "cell_type": "markdown",
   "metadata": {},
   "source": [
    "### 3.3 Información adicional"
   ]
  },
  {
   "cell_type": "markdown",
   "metadata": {},
   "source": [
    "Se requiere además información sobre las características de la superficie. Esta información es importante para que el modelo hidráulico calcule la cantidad de agua precipitada que se incorpora a la red de drenaje.\n",
    "\n",
    "La información es separada por subcuencas, cada subcuenca corresponde a una camara de inspección $(Nodo)$ como área aferente. Para cada subcuenca se definen los siguientes parámetros:\n",
    "\n",
    "- Porción permeable e impermeable $[\\%]$\n",
    "- Área $[km^{2}]$\n",
    "- Pendiente promedio $[\\%]$\n",
    "- Ancho $[m]$\n",
    "- Rugosidad permeable e impermeable $[adimensional]$\n",
    "- Encharcamiento (interceptacción) para cobertura permeable e impermeable $[mm]$\n"
   ]
  },
  {
   "cell_type": "markdown",
   "metadata": {},
   "source": [
    "## 4. Caso Bulerias"
   ]
  },
  {
   "cell_type": "markdown",
   "metadata": {},
   "source": [
    "La zona aledaña al deprimido vial de Bulerias, ubicado en la comuna 16. Belén de Medellín ha sido una zona critica para este tipo de emergencias. Se ha seleccionado esta zona como caso piloto para el desarrollo del modelo de Drenaje Urbano.\n",
    "\n",
    "Inundación en el deprimido de Bulerias (8 de Abril 2017).\n",
    "\n",
    "![title](bulerias.jpg)\n",
    "\n",
    "A continuación se presenta la metodología utilizada para la implementación de este caso en particular.\n",
    "\n",
    "- Delimitar zona y extraer información de las redes de alcantarillado de EPM.\n",
    "- Identificación de eventos en la zona. En total se identificaron 173 eventos de todas las magnitudes incluyendo los 4 eventos mas críticos y de mayor relevancia. \n",
    "- Escribir archivos de entrada para el modelo  hidráulico EPA-SWMM de todos los eventos a considerar. El modelo hidráulico es ejecutado por linea de comandos y es necesario generar un archivo de entrada $(.inp)$ con la información de cada evento.\n",
    "- Para cada evento leer el archivo de resultados $(.rpt)$ y extraer valores de la simulación relevantes para describir el comportamiento de la red: saturación en cámaras, volumen desbordado, horas desbordado, velocidad en tuberías, relación de llenado, etc.\n",
    "\n",
    "\n",
    "$\\textbf{Figura 1:}$ Red de drenaje urbano para la zona de Bulerias, obtenido de EPM.\n",
    "\n",
    "![title](red_drenaje.png)\n",
    "\n",
    "$\\textbf{Figura 2:}$ Identificación de descargas de la red de dreneje urbano en la quebrada La Picacha.\n",
    "\n",
    "![title](quebrada.png)\n",
    "\n",
    "$\\textbf{Figura 3:}$ Información radar, pluviometros y nivel, obtenidos de SIATA.\n",
    "\n",
    "![title](radar_bulerias.png)"
   ]
  },
  {
   "cell_type": "markdown",
   "metadata": {},
   "source": [
    "## 5. Análisis de resultados"
   ]
  },
  {
   "cell_type": "markdown",
   "metadata": {},
   "source": [
    "El modelo hidráulico EPA-SWMM es ejecutado para cada evento en la zona de estudio. Del modelo se obtiene la simulación de flujo sobre la red de drenaje para el agua precipitada. \n",
    "\n",
    "Inicialmente se analizan los resultados para $173$ eventos identificados sobre la zona de Bulerias. A continuación se presentan las varibales que se definen como descriptores del comportamiento de la red de drenaje. \n",
    "\n",
    "$1$. Cámaras  de inspección (Nodos):\n",
    "\n",
    "- Saturación máxima $(Línea$ $de$ $energía$ $/$ $Profundidad$ $nodo)$\n",
    "- Caudal desbordado\n",
    "- Volumen desbordado\n",
    "- Cantidad horas desbordado\n",
    "\n",
    "$2$. Tuberías\n",
    "\n",
    "- Velocidad máxima\n",
    "- Caudal máximo\n",
    "- Relación de llenado $(H/D)$\n",
    "- Número de Froude \n",
    "- Profundidad promedio\n",
    "\n",
    "\n",
    "Los resultados de todos los eventos son validados con la evidencia historica de fallas reportadas por los organismos de socorro. Además son almacenados en una base de datos para implementar la versión estadística del Modelo de Dreneje Urbano.\n",
    "\n",
    "A continuación se presentan los resultados para uno de los eventos mas criticos que fueron identificados y simulados en el caso de Bulerias. 2017-04-08\n",
    "\n",
    "$\\textbf{Figura 1:}$ Saturación en nodos y caudal máximo en tuberías.\n",
    "\n",
    "![title](2017-04-08.png)\n",
    "\n",
    "$\\textbf{Figura 2:}$ Distribución de la saturación en los nodos de la red.\n",
    "\n",
    "![title](2017-04-08_hist.png)\n"
   ]
  },
  {
   "cell_type": "markdown",
   "metadata": {},
   "source": [
    "## 6. Modelo operacional"
   ]
  },
  {
   "cell_type": "markdown",
   "metadata": {},
   "source": [
    "El Modelo de Drenaje Urbano es una herramienta para la gestión del riesgo asociado a inundaciones en la red de alcantarillados pluviales. De manera operativa el modelo se ejecuta con frecuencia de $2min$ bajo condiciones de lluvia en la zona de interes.\n",
    "\n",
    "El modelo se compone de una versión física y una versión estadística. "
   ]
  },
  {
   "cell_type": "markdown",
   "metadata": {},
   "source": [
    "### 6.1 Modelo físico"
   ]
  },
  {
   "cell_type": "markdown",
   "metadata": {},
   "source": [
    "En el modelo físico el proceso operacional se compone de tres pasos:\n",
    "\n",
    "- Consulta de precipitación a partir de radar y pluviometros.\n",
    "- Escritura de archivo $input$ para EPA-SWMM y ejecución del modelo.\n",
    "- Lectura y presentación de resultados.\n",
    "\n",
    "La generación de resultados se realiza para precipitación en tiempo real (actualizada hasta el momento de la ejecución) y con pronostico de precipitación para la próxima hora. La precipitación pronosticada aumenta el tiempo de respuesta ante posibles emergencias.\n",
    "\n",
    "Los resultados de este modelo son mapas de las variables descriptoras en nodos y tuberías. Permite localización espacial de los lugares mas criticos. La ejecución completa de la versión física tarda aproximadamente 30 segundos y no demanda recurso computacional considerable.\n",
    " \n"
   ]
  },
  {
   "cell_type": "markdown",
   "metadata": {},
   "source": [
    "### 6.2 Modelo estadístico"
   ]
  },
  {
   "cell_type": "markdown",
   "metadata": {},
   "source": [
    "Para el modelo estadístico se requiere unicamente del acumulado de precipitación, el cual se estima en tiempo real y para una hora de prónostico. \n",
    "\n",
    "El resultado de este modelo es la asignación de una categoria de riesgo (Bajo, Moderado y Alto). Para esto se utilizan los acumulados de precipitación y se comparan con el historico de eventos para la zona.\n",
    "\n",
    "$\\textbf{Figura 1:}$ Distribución de la saturación para el historico de eventos en el caso Bulerias.\n",
    "\n",
    "![title](drenaje_estadistico.png)\n",
    "\n",
    "Para las ejecuciones operacionales se relacionan los acumulados de tiempo real y pronostico con los eventos historicos y se asigna la categoría correspondiente:\n",
    "\n",
    "- Categoria Baja (azul): las saturaciones se concentran por debajo de $50\\%$.\n",
    "- Categoria Moderado (amarillo): las saturaciones se concentran por debajo de $70\\%$ y algunos nodos por encima de la saturación crítica ($80\\%$).\n",
    "- Categoria Alta (roja): Las saturaciones se concentran por encima de $80\\%$ y se consideran eventos críticos que generan inconvenientes en la zona: encharcamiento, inundaciones, cierre de vías, etc."
   ]
  },
  {
   "cell_type": "markdown",
   "metadata": {
    "collapsed": true
   },
   "source": [
    "### 6.3 Actualización de eventos"
   ]
  },
  {
   "cell_type": "markdown",
   "metadata": {
    "collapsed": true
   },
   "source": [
    "El Modelo de Dreneje Urbano operacional en su versión estadística se ejecuta tomando como base los eventos historicos. La historia debe ser actualizada con los eventos nuevos para mejorar la representativa estadistica.\n",
    "\n",
    "Ante la ocurrencia de nuevos casos críticos, las simulaciones serviran para calibrar parámetros en el modelo hidráulico. De esta manera se hace importante la actualización de eventos nuevos para la versión física del modelo."
   ]
  },
  {
   "cell_type": "code",
   "execution_count": 1,
   "metadata": {},
   "outputs": [
    {
     "data": {
      "text/html": [
       "<script>\n",
       "code_show=true;\n",
       "function code_toggle() {\n",
       "if (code_show){\n",
       "$('div.input').hide();\n",
       "} else {\n",
       "$('div.input').show();\n",
       "}\n",
       "code_show = !code_show\n",
       "}\n",
       "$( document ).ready(code_toggle);\n",
       "</script>\n",
       "<form action=\"javascript:code_toggle()\"><input type=\"submit\" value=\"Click here to toggle on/off the raw code.\"></form>"
      ],
      "text/plain": [
       "<IPython.core.display.HTML object>"
      ]
     },
     "execution_count": 1,
     "metadata": {},
     "output_type": "execute_result"
    }
   ],
   "source": [
    "from IPython.display import HTML\n",
    "\n",
    "HTML('''<script>\n",
    "code_show=true;\n",
    "function code_toggle() {\n",
    "if (code_show){\n",
    "$('div.input').hide();\n",
    "} else {\n",
    "$('div.input').show();\n",
    "}\n",
    "code_show = !code_show\n",
    "}\n",
    "$( document ).ready(code_toggle);\n",
    "</script>\n",
    "<form action=\"javascript:code_toggle()\"><input type=\"submit\" value=\"Click here to toggle on/off the raw code.\"></form>''')"
   ]
  },
  {
   "cell_type": "code",
   "execution_count": null,
   "metadata": {
    "collapsed": true
   },
   "outputs": [],
   "source": []
  }
 ],
 "metadata": {
  "kernelspec": {
   "display_name": "Python 2",
   "language": "python",
   "name": "python2"
  },
  "language_info": {
   "codemirror_mode": {
    "name": "ipython",
    "version": 2
   },
   "file_extension": ".py",
   "mimetype": "text/x-python",
   "name": "python",
   "nbconvert_exporter": "python",
   "pygments_lexer": "ipython2",
   "version": "2.7.6"
  }
 },
 "nbformat": 4,
 "nbformat_minor": 2
}
